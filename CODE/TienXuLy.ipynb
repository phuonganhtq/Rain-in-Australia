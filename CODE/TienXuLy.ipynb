{
 "cells": [
  {
   "cell_type": "markdown",
   "metadata": {},
   "source": [
    "## TIỀN XỬ LÝ XỬ LIỆU"
   ]
  },
  {
   "cell_type": "markdown",
   "metadata": {},
   "source": [
    "### 1. THƯ VIỆN"
   ]
  },
  {
   "cell_type": "markdown",
   "metadata": {},
   "source": [
    "### - Import các thư viện cần thiết"
   ]
  },
  {
   "cell_type": "code",
   "execution_count": 20,
   "metadata": {},
   "outputs": [],
   "source": [
    "import pandas as pd\n",
    "import numpy as np\n",
    "from scipy import stats as ss\n",
    "import seaborn as sns\n",
    "import matplotlib.pyplot as plt\n",
    "import matplotlib\n",
    "%matplotlib inline"
   ]
  },
  {
   "cell_type": "markdown",
   "metadata": {},
   "source": [
    "### - Đọc tập dữ liệu bằng thư viện Pandas"
   ]
  },
  {
   "cell_type": "code",
   "execution_count": 21,
   "metadata": {},
   "outputs": [
    {
     "data": {
      "text/html": [
       "<div>\n",
       "<style scoped>\n",
       "    .dataframe tbody tr th:only-of-type {\n",
       "        vertical-align: middle;\n",
       "    }\n",
       "\n",
       "    .dataframe tbody tr th {\n",
       "        vertical-align: top;\n",
       "    }\n",
       "\n",
       "    .dataframe thead th {\n",
       "        text-align: right;\n",
       "    }\n",
       "</style>\n",
       "<table border=\"1\" class=\"dataframe\">\n",
       "  <thead>\n",
       "    <tr style=\"text-align: right;\">\n",
       "      <th></th>\n",
       "      <th>Date</th>\n",
       "      <th>Location</th>\n",
       "      <th>MinTemp</th>\n",
       "      <th>MaxTemp</th>\n",
       "      <th>Rainfall</th>\n",
       "      <th>Evaporation</th>\n",
       "      <th>Sunshine</th>\n",
       "      <th>WindGustDir</th>\n",
       "      <th>WindGustSpeed</th>\n",
       "      <th>WindDir9am</th>\n",
       "      <th>...</th>\n",
       "      <th>Humidity9am</th>\n",
       "      <th>Humidity3pm</th>\n",
       "      <th>Pressure9am</th>\n",
       "      <th>Pressure3pm</th>\n",
       "      <th>Cloud9am</th>\n",
       "      <th>Cloud3pm</th>\n",
       "      <th>Temp9am</th>\n",
       "      <th>Temp3pm</th>\n",
       "      <th>RainToday</th>\n",
       "      <th>RainTomorrow</th>\n",
       "    </tr>\n",
       "  </thead>\n",
       "  <tbody>\n",
       "    <tr>\n",
       "      <th>0</th>\n",
       "      <td>2008-12-01</td>\n",
       "      <td>Albury</td>\n",
       "      <td>13.4</td>\n",
       "      <td>22.9</td>\n",
       "      <td>0.6</td>\n",
       "      <td>NaN</td>\n",
       "      <td>NaN</td>\n",
       "      <td>W</td>\n",
       "      <td>44.0</td>\n",
       "      <td>W</td>\n",
       "      <td>...</td>\n",
       "      <td>71.0</td>\n",
       "      <td>22.0</td>\n",
       "      <td>1007.7</td>\n",
       "      <td>1007.1</td>\n",
       "      <td>8.0</td>\n",
       "      <td>NaN</td>\n",
       "      <td>16.9</td>\n",
       "      <td>21.8</td>\n",
       "      <td>No</td>\n",
       "      <td>No</td>\n",
       "    </tr>\n",
       "    <tr>\n",
       "      <th>1</th>\n",
       "      <td>2008-12-02</td>\n",
       "      <td>Albury</td>\n",
       "      <td>7.4</td>\n",
       "      <td>25.1</td>\n",
       "      <td>0.0</td>\n",
       "      <td>NaN</td>\n",
       "      <td>NaN</td>\n",
       "      <td>WNW</td>\n",
       "      <td>44.0</td>\n",
       "      <td>NNW</td>\n",
       "      <td>...</td>\n",
       "      <td>44.0</td>\n",
       "      <td>25.0</td>\n",
       "      <td>1010.6</td>\n",
       "      <td>1007.8</td>\n",
       "      <td>NaN</td>\n",
       "      <td>NaN</td>\n",
       "      <td>17.2</td>\n",
       "      <td>24.3</td>\n",
       "      <td>No</td>\n",
       "      <td>No</td>\n",
       "    </tr>\n",
       "    <tr>\n",
       "      <th>2</th>\n",
       "      <td>2008-12-03</td>\n",
       "      <td>Albury</td>\n",
       "      <td>12.9</td>\n",
       "      <td>25.7</td>\n",
       "      <td>0.0</td>\n",
       "      <td>NaN</td>\n",
       "      <td>NaN</td>\n",
       "      <td>WSW</td>\n",
       "      <td>46.0</td>\n",
       "      <td>W</td>\n",
       "      <td>...</td>\n",
       "      <td>38.0</td>\n",
       "      <td>30.0</td>\n",
       "      <td>1007.6</td>\n",
       "      <td>1008.7</td>\n",
       "      <td>NaN</td>\n",
       "      <td>2.0</td>\n",
       "      <td>21.0</td>\n",
       "      <td>23.2</td>\n",
       "      <td>No</td>\n",
       "      <td>No</td>\n",
       "    </tr>\n",
       "    <tr>\n",
       "      <th>3</th>\n",
       "      <td>2008-12-04</td>\n",
       "      <td>Albury</td>\n",
       "      <td>9.2</td>\n",
       "      <td>28.0</td>\n",
       "      <td>0.0</td>\n",
       "      <td>NaN</td>\n",
       "      <td>NaN</td>\n",
       "      <td>NE</td>\n",
       "      <td>24.0</td>\n",
       "      <td>SE</td>\n",
       "      <td>...</td>\n",
       "      <td>45.0</td>\n",
       "      <td>16.0</td>\n",
       "      <td>1017.6</td>\n",
       "      <td>1012.8</td>\n",
       "      <td>NaN</td>\n",
       "      <td>NaN</td>\n",
       "      <td>18.1</td>\n",
       "      <td>26.5</td>\n",
       "      <td>No</td>\n",
       "      <td>No</td>\n",
       "    </tr>\n",
       "    <tr>\n",
       "      <th>4</th>\n",
       "      <td>2008-12-05</td>\n",
       "      <td>Albury</td>\n",
       "      <td>17.5</td>\n",
       "      <td>32.3</td>\n",
       "      <td>1.0</td>\n",
       "      <td>NaN</td>\n",
       "      <td>NaN</td>\n",
       "      <td>W</td>\n",
       "      <td>41.0</td>\n",
       "      <td>ENE</td>\n",
       "      <td>...</td>\n",
       "      <td>82.0</td>\n",
       "      <td>33.0</td>\n",
       "      <td>1010.8</td>\n",
       "      <td>1006.0</td>\n",
       "      <td>7.0</td>\n",
       "      <td>8.0</td>\n",
       "      <td>17.8</td>\n",
       "      <td>29.7</td>\n",
       "      <td>No</td>\n",
       "      <td>No</td>\n",
       "    </tr>\n",
       "  </tbody>\n",
       "</table>\n",
       "<p>5 rows × 23 columns</p>\n",
       "</div>"
      ],
      "text/plain": [
       "         Date Location  MinTemp  MaxTemp  Rainfall  Evaporation  Sunshine  \\\n",
       "0  2008-12-01   Albury     13.4     22.9       0.6          NaN       NaN   \n",
       "1  2008-12-02   Albury      7.4     25.1       0.0          NaN       NaN   \n",
       "2  2008-12-03   Albury     12.9     25.7       0.0          NaN       NaN   \n",
       "3  2008-12-04   Albury      9.2     28.0       0.0          NaN       NaN   \n",
       "4  2008-12-05   Albury     17.5     32.3       1.0          NaN       NaN   \n",
       "\n",
       "  WindGustDir  WindGustSpeed WindDir9am  ... Humidity9am  Humidity3pm  \\\n",
       "0           W           44.0          W  ...        71.0         22.0   \n",
       "1         WNW           44.0        NNW  ...        44.0         25.0   \n",
       "2         WSW           46.0          W  ...        38.0         30.0   \n",
       "3          NE           24.0         SE  ...        45.0         16.0   \n",
       "4           W           41.0        ENE  ...        82.0         33.0   \n",
       "\n",
       "   Pressure9am  Pressure3pm  Cloud9am  Cloud3pm  Temp9am  Temp3pm  RainToday  \\\n",
       "0       1007.7       1007.1       8.0       NaN     16.9     21.8         No   \n",
       "1       1010.6       1007.8       NaN       NaN     17.2     24.3         No   \n",
       "2       1007.6       1008.7       NaN       2.0     21.0     23.2         No   \n",
       "3       1017.6       1012.8       NaN       NaN     18.1     26.5         No   \n",
       "4       1010.8       1006.0       7.0       8.0     17.8     29.7         No   \n",
       "\n",
       "   RainTomorrow  \n",
       "0            No  \n",
       "1            No  \n",
       "2            No  \n",
       "3            No  \n",
       "4            No  \n",
       "\n",
       "[5 rows x 23 columns]"
      ]
     },
     "execution_count": 21,
     "metadata": {},
     "output_type": "execute_result"
    }
   ],
   "source": [
    "rain_df = pd.read_csv(\"E:/DA/DO_AN_CUOI_KY/DATASET/weatherAUS.csv\")\n",
    "rain_df.head(5)\n",
    "#rain_df.sample(5)"
   ]
  },
  {
   "cell_type": "markdown",
   "metadata": {},
   "source": [
    "### 2. Tiền xử lý"
   ]
  },
  {
   "cell_type": "code",
   "execution_count": 22,
   "metadata": {},
   "outputs": [
    {
     "name": "stdout",
     "output_type": "stream",
     "text": [
      "<class 'pandas.core.frame.DataFrame'>\n",
      "RangeIndex: 145460 entries, 0 to 145459\n",
      "Data columns (total 23 columns):\n",
      " #   Column         Non-Null Count   Dtype  \n",
      "---  ------         --------------   -----  \n",
      " 0   Date           145460 non-null  object \n",
      " 1   Location       145460 non-null  object \n",
      " 2   MinTemp        143975 non-null  float64\n",
      " 3   MaxTemp        144199 non-null  float64\n",
      " 4   Rainfall       142199 non-null  float64\n",
      " 5   Evaporation    82670 non-null   float64\n",
      " 6   Sunshine       75625 non-null   float64\n",
      " 7   WindGustDir    135134 non-null  object \n",
      " 8   WindGustSpeed  135197 non-null  float64\n",
      " 9   WindDir9am     134894 non-null  object \n",
      " 10  WindDir3pm     141232 non-null  object \n",
      " 11  WindSpeed9am   143693 non-null  float64\n",
      " 12  WindSpeed3pm   142398 non-null  float64\n",
      " 13  Humidity9am    142806 non-null  float64\n",
      " 14  Humidity3pm    140953 non-null  float64\n",
      " 15  Pressure9am    130395 non-null  float64\n",
      " 16  Pressure3pm    130432 non-null  float64\n",
      " 17  Cloud9am       89572 non-null   float64\n",
      " 18  Cloud3pm       86102 non-null   float64\n",
      " 19  Temp9am        143693 non-null  float64\n",
      " 20  Temp3pm        141851 non-null  float64\n",
      " 21  RainToday      142199 non-null  object \n",
      " 22  RainTomorrow   142193 non-null  object \n",
      "dtypes: float64(16), object(7)\n",
      "memory usage: 25.5+ MB\n"
     ]
    }
   ],
   "source": [
    "rain_df.info()"
   ]
  },
  {
   "cell_type": "markdown",
   "metadata": {},
   "source": [
    "- DataFrame này chứa dữ liệu về thời tiết, bao gồm các thông tin như trên.\n",
    "- DataFrame có kích thước khá lớn, với 145460 dòng và 23 cột."
   ]
  },
  {
   "cell_type": "code",
   "execution_count": 23,
   "metadata": {},
   "outputs": [
    {
     "data": {
      "text/html": [
       "<div>\n",
       "<style scoped>\n",
       "    .dataframe tbody tr th:only-of-type {\n",
       "        vertical-align: middle;\n",
       "    }\n",
       "\n",
       "    .dataframe tbody tr th {\n",
       "        vertical-align: top;\n",
       "    }\n",
       "\n",
       "    .dataframe thead th {\n",
       "        text-align: right;\n",
       "    }\n",
       "</style>\n",
       "<table border=\"1\" class=\"dataframe\">\n",
       "  <thead>\n",
       "    <tr style=\"text-align: right;\">\n",
       "      <th></th>\n",
       "      <th>MinTemp</th>\n",
       "      <th>MaxTemp</th>\n",
       "      <th>Rainfall</th>\n",
       "      <th>Evaporation</th>\n",
       "      <th>Sunshine</th>\n",
       "      <th>WindGustSpeed</th>\n",
       "      <th>WindSpeed9am</th>\n",
       "      <th>WindSpeed3pm</th>\n",
       "      <th>Humidity9am</th>\n",
       "      <th>Humidity3pm</th>\n",
       "      <th>Pressure9am</th>\n",
       "      <th>Pressure3pm</th>\n",
       "      <th>Cloud9am</th>\n",
       "      <th>Cloud3pm</th>\n",
       "      <th>Temp9am</th>\n",
       "      <th>Temp3pm</th>\n",
       "    </tr>\n",
       "  </thead>\n",
       "  <tbody>\n",
       "    <tr>\n",
       "      <th>count</th>\n",
       "      <td>143975.000000</td>\n",
       "      <td>144199.000000</td>\n",
       "      <td>142199.000000</td>\n",
       "      <td>82670.000000</td>\n",
       "      <td>75625.000000</td>\n",
       "      <td>135197.000000</td>\n",
       "      <td>143693.000000</td>\n",
       "      <td>142398.000000</td>\n",
       "      <td>142806.000000</td>\n",
       "      <td>140953.000000</td>\n",
       "      <td>130395.00000</td>\n",
       "      <td>130432.000000</td>\n",
       "      <td>89572.000000</td>\n",
       "      <td>86102.000000</td>\n",
       "      <td>143693.000000</td>\n",
       "      <td>141851.00000</td>\n",
       "    </tr>\n",
       "    <tr>\n",
       "      <th>mean</th>\n",
       "      <td>12.194034</td>\n",
       "      <td>23.221348</td>\n",
       "      <td>2.360918</td>\n",
       "      <td>5.468232</td>\n",
       "      <td>7.611178</td>\n",
       "      <td>40.035230</td>\n",
       "      <td>14.043426</td>\n",
       "      <td>18.662657</td>\n",
       "      <td>68.880831</td>\n",
       "      <td>51.539116</td>\n",
       "      <td>1017.64994</td>\n",
       "      <td>1015.255889</td>\n",
       "      <td>4.447461</td>\n",
       "      <td>4.509930</td>\n",
       "      <td>16.990631</td>\n",
       "      <td>21.68339</td>\n",
       "    </tr>\n",
       "    <tr>\n",
       "      <th>std</th>\n",
       "      <td>6.398495</td>\n",
       "      <td>7.119049</td>\n",
       "      <td>8.478060</td>\n",
       "      <td>4.193704</td>\n",
       "      <td>3.785483</td>\n",
       "      <td>13.607062</td>\n",
       "      <td>8.915375</td>\n",
       "      <td>8.809800</td>\n",
       "      <td>19.029164</td>\n",
       "      <td>20.795902</td>\n",
       "      <td>7.10653</td>\n",
       "      <td>7.037414</td>\n",
       "      <td>2.887159</td>\n",
       "      <td>2.720357</td>\n",
       "      <td>6.488753</td>\n",
       "      <td>6.93665</td>\n",
       "    </tr>\n",
       "    <tr>\n",
       "      <th>min</th>\n",
       "      <td>-8.500000</td>\n",
       "      <td>-4.800000</td>\n",
       "      <td>0.000000</td>\n",
       "      <td>0.000000</td>\n",
       "      <td>0.000000</td>\n",
       "      <td>6.000000</td>\n",
       "      <td>0.000000</td>\n",
       "      <td>0.000000</td>\n",
       "      <td>0.000000</td>\n",
       "      <td>0.000000</td>\n",
       "      <td>980.50000</td>\n",
       "      <td>977.100000</td>\n",
       "      <td>0.000000</td>\n",
       "      <td>0.000000</td>\n",
       "      <td>-7.200000</td>\n",
       "      <td>-5.40000</td>\n",
       "    </tr>\n",
       "    <tr>\n",
       "      <th>25%</th>\n",
       "      <td>7.600000</td>\n",
       "      <td>17.900000</td>\n",
       "      <td>0.000000</td>\n",
       "      <td>2.600000</td>\n",
       "      <td>4.800000</td>\n",
       "      <td>31.000000</td>\n",
       "      <td>7.000000</td>\n",
       "      <td>13.000000</td>\n",
       "      <td>57.000000</td>\n",
       "      <td>37.000000</td>\n",
       "      <td>1012.90000</td>\n",
       "      <td>1010.400000</td>\n",
       "      <td>1.000000</td>\n",
       "      <td>2.000000</td>\n",
       "      <td>12.300000</td>\n",
       "      <td>16.60000</td>\n",
       "    </tr>\n",
       "    <tr>\n",
       "      <th>50%</th>\n",
       "      <td>12.000000</td>\n",
       "      <td>22.600000</td>\n",
       "      <td>0.000000</td>\n",
       "      <td>4.800000</td>\n",
       "      <td>8.400000</td>\n",
       "      <td>39.000000</td>\n",
       "      <td>13.000000</td>\n",
       "      <td>19.000000</td>\n",
       "      <td>70.000000</td>\n",
       "      <td>52.000000</td>\n",
       "      <td>1017.60000</td>\n",
       "      <td>1015.200000</td>\n",
       "      <td>5.000000</td>\n",
       "      <td>5.000000</td>\n",
       "      <td>16.700000</td>\n",
       "      <td>21.10000</td>\n",
       "    </tr>\n",
       "    <tr>\n",
       "      <th>75%</th>\n",
       "      <td>16.900000</td>\n",
       "      <td>28.200000</td>\n",
       "      <td>0.800000</td>\n",
       "      <td>7.400000</td>\n",
       "      <td>10.600000</td>\n",
       "      <td>48.000000</td>\n",
       "      <td>19.000000</td>\n",
       "      <td>24.000000</td>\n",
       "      <td>83.000000</td>\n",
       "      <td>66.000000</td>\n",
       "      <td>1022.40000</td>\n",
       "      <td>1020.000000</td>\n",
       "      <td>7.000000</td>\n",
       "      <td>7.000000</td>\n",
       "      <td>21.600000</td>\n",
       "      <td>26.40000</td>\n",
       "    </tr>\n",
       "    <tr>\n",
       "      <th>max</th>\n",
       "      <td>33.900000</td>\n",
       "      <td>48.100000</td>\n",
       "      <td>371.000000</td>\n",
       "      <td>145.000000</td>\n",
       "      <td>14.500000</td>\n",
       "      <td>135.000000</td>\n",
       "      <td>130.000000</td>\n",
       "      <td>87.000000</td>\n",
       "      <td>100.000000</td>\n",
       "      <td>100.000000</td>\n",
       "      <td>1041.00000</td>\n",
       "      <td>1039.600000</td>\n",
       "      <td>9.000000</td>\n",
       "      <td>9.000000</td>\n",
       "      <td>40.200000</td>\n",
       "      <td>46.70000</td>\n",
       "    </tr>\n",
       "  </tbody>\n",
       "</table>\n",
       "</div>"
      ],
      "text/plain": [
       "             MinTemp        MaxTemp       Rainfall   Evaporation  \\\n",
       "count  143975.000000  144199.000000  142199.000000  82670.000000   \n",
       "mean       12.194034      23.221348       2.360918      5.468232   \n",
       "std         6.398495       7.119049       8.478060      4.193704   \n",
       "min        -8.500000      -4.800000       0.000000      0.000000   \n",
       "25%         7.600000      17.900000       0.000000      2.600000   \n",
       "50%        12.000000      22.600000       0.000000      4.800000   \n",
       "75%        16.900000      28.200000       0.800000      7.400000   \n",
       "max        33.900000      48.100000     371.000000    145.000000   \n",
       "\n",
       "           Sunshine  WindGustSpeed   WindSpeed9am   WindSpeed3pm  \\\n",
       "count  75625.000000  135197.000000  143693.000000  142398.000000   \n",
       "mean       7.611178      40.035230      14.043426      18.662657   \n",
       "std        3.785483      13.607062       8.915375       8.809800   \n",
       "min        0.000000       6.000000       0.000000       0.000000   \n",
       "25%        4.800000      31.000000       7.000000      13.000000   \n",
       "50%        8.400000      39.000000      13.000000      19.000000   \n",
       "75%       10.600000      48.000000      19.000000      24.000000   \n",
       "max       14.500000     135.000000     130.000000      87.000000   \n",
       "\n",
       "         Humidity9am    Humidity3pm   Pressure9am    Pressure3pm  \\\n",
       "count  142806.000000  140953.000000  130395.00000  130432.000000   \n",
       "mean       68.880831      51.539116    1017.64994    1015.255889   \n",
       "std        19.029164      20.795902       7.10653       7.037414   \n",
       "min         0.000000       0.000000     980.50000     977.100000   \n",
       "25%        57.000000      37.000000    1012.90000    1010.400000   \n",
       "50%        70.000000      52.000000    1017.60000    1015.200000   \n",
       "75%        83.000000      66.000000    1022.40000    1020.000000   \n",
       "max       100.000000     100.000000    1041.00000    1039.600000   \n",
       "\n",
       "           Cloud9am      Cloud3pm        Temp9am       Temp3pm  \n",
       "count  89572.000000  86102.000000  143693.000000  141851.00000  \n",
       "mean       4.447461      4.509930      16.990631      21.68339  \n",
       "std        2.887159      2.720357       6.488753       6.93665  \n",
       "min        0.000000      0.000000      -7.200000      -5.40000  \n",
       "25%        1.000000      2.000000      12.300000      16.60000  \n",
       "50%        5.000000      5.000000      16.700000      21.10000  \n",
       "75%        7.000000      7.000000      21.600000      26.40000  \n",
       "max        9.000000      9.000000      40.200000      46.70000  "
      ]
     },
     "execution_count": 23,
     "metadata": {},
     "output_type": "execute_result"
    }
   ],
   "source": [
    "rain_df.describe()"
   ]
  },
  {
   "cell_type": "markdown",
   "metadata": {},
   "source": [
    "- Ý nghĩa:\n",
    "    + count : Số lượng các giá trị không bị thiếu (không phải là null) trong mỗi cột. Nói cách khác, đây là số lượng các quan sát có dữ liệu đầy đủ cho từng biến.\n",
    "    + mean : Giá trị trung bình của mỗi cột. Đây là một chỉ số đo lường xu hướng trung tâm của dữ liệu.\n",
    "    + std : Độ lệch chuẩn. Đây là một chỉ số đo lường mức độ phân tán của dữ liệu so với giá trị trung bình. Độ lệch chuẩn càng cao, dữ liệu càng phân tán.\n",
    "    + min : Giá trị nhỏ nhất của mỗi cột.\n",
    "    + 25% : Giá trị phần tư thứ nhất (Q1). 25% số liệu có giá trị nhỏ hơn hoặc bằng Q1.\n",
    "    + 50% : Giá trị trung vị (Q2). 50% số liệu có giá trị nhỏ hơn hoặc bằng Q2.\n",
    "    + 75% : Giá trị phần tư thứ ba (Q3). 75% số liệu có giá trị nhỏ hơn hoặc bằng Q3.\n",
    "    + max : Giá trị lớn nhất của mỗi cột."
   ]
  },
  {
   "cell_type": "markdown",
   "metadata": {},
   "source": [
    "- Ví dụ:\n",
    "    + Cột Rainfall : Giá trị trung bình (mean) của lượng mưa là 2.32194. Điều này cho thấy trung bình mỗi lần đo, lượng mưa là khoảng 2.32 mm. Giá trị min là 0, cho thấy có những lần không có mưa. Giá trị max khá cao, cho thấy có những lần mưa rất lớn."
   ]
  },
  {
   "cell_type": "markdown",
   "metadata": {},
   "source": [
    "#### Kiểm tra số lượng giá trị duy nhất, số lượng giá trị null của từng thuộc tính"
   ]
  },
  {
   "cell_type": "code",
   "execution_count": 24,
   "metadata": {},
   "outputs": [
    {
     "data": {
      "text/plain": [
       "Date             3436\n",
       "Location           49\n",
       "MinTemp           389\n",
       "MaxTemp           505\n",
       "Rainfall          681\n",
       "Evaporation       358\n",
       "Sunshine          145\n",
       "WindGustDir        16\n",
       "WindGustSpeed      67\n",
       "WindDir9am         16\n",
       "WindDir3pm         16\n",
       "WindSpeed9am       43\n",
       "WindSpeed3pm       44\n",
       "Humidity9am       101\n",
       "Humidity3pm       101\n",
       "Pressure9am       546\n",
       "Pressure3pm       549\n",
       "Cloud9am           10\n",
       "Cloud3pm           10\n",
       "Temp9am           441\n",
       "Temp3pm           502\n",
       "RainToday           2\n",
       "RainTomorrow        2\n",
       "dtype: int64"
      ]
     },
     "execution_count": 24,
     "metadata": {},
     "output_type": "execute_result"
    }
   ],
   "source": [
    "rain_df.nunique()"
   ]
  },
  {
   "cell_type": "markdown",
   "metadata": {},
   "source": [
    "-> Giá trị duy nhất của mỗi thuộc tính"
   ]
  },
  {
   "cell_type": "code",
   "execution_count": 25,
   "metadata": {},
   "outputs": [
    {
     "data": {
      "text/plain": [
       "Date                 0\n",
       "Location             0\n",
       "MinTemp           1485\n",
       "MaxTemp           1261\n",
       "Rainfall          3261\n",
       "Evaporation      62790\n",
       "Sunshine         69835\n",
       "WindGustDir      10326\n",
       "WindGustSpeed    10263\n",
       "WindDir9am       10566\n",
       "WindDir3pm        4228\n",
       "WindSpeed9am      1767\n",
       "WindSpeed3pm      3062\n",
       "Humidity9am       2654\n",
       "Humidity3pm       4507\n",
       "Pressure9am      15065\n",
       "Pressure3pm      15028\n",
       "Cloud9am         55888\n",
       "Cloud3pm         59358\n",
       "Temp9am           1767\n",
       "Temp3pm           3609\n",
       "RainToday         3261\n",
       "RainTomorrow      3267\n",
       "dtype: int64"
      ]
     },
     "execution_count": 25,
     "metadata": {},
     "output_type": "execute_result"
    }
   ],
   "source": [
    "rain_df.isnull().sum()"
   ]
  },
  {
   "cell_type": "markdown",
   "metadata": {},
   "source": [
    "-> Số lượng giá trị null của từng thuộc tính."
   ]
  },
  {
   "cell_type": "code",
   "execution_count": 26,
   "metadata": {},
   "outputs": [
    {
     "name": "stdout",
     "output_type": "stream",
     "text": [
      "<class 'pandas.core.frame.DataFrame'>\n",
      "Index: 134551 entries, 0 to 145459\n",
      "Data columns (total 23 columns):\n",
      " #   Column         Non-Null Count   Dtype  \n",
      "---  ------         --------------   -----  \n",
      " 0   Date           134551 non-null  object \n",
      " 1   Location       134551 non-null  object \n",
      " 2   MinTemp        133084 non-null  float64\n",
      " 3   MaxTemp        133293 non-null  float64\n",
      " 4   Rainfall       131290 non-null  float64\n",
      " 5   Evaporation    73619 non-null   float64\n",
      " 6   Sunshine       70277 non-null   float64\n",
      " 7   WindGustDir    124234 non-null  object \n",
      " 8   WindGustSpeed  124288 non-null  float64\n",
      " 9   WindDir9am     125467 non-null  object \n",
      " 10  WindDir3pm     130479 non-null  object \n",
      " 11  WindSpeed9am   132784 non-null  float64\n",
      " 12  WindSpeed3pm   131489 non-null  float64\n",
      " 13  Humidity9am    131921 non-null  float64\n",
      " 14  Humidity3pm    130070 non-null  float64\n",
      " 15  Pressure9am    119518 non-null  float64\n",
      " 16  Pressure3pm    119540 non-null  float64\n",
      " 17  Cloud9am       78856 non-null   float64\n",
      " 18  Cloud3pm       76579 non-null   float64\n",
      " 19  Temp9am        132784 non-null  float64\n",
      " 20  Temp3pm        130942 non-null  float64\n",
      " 21  RainToday      131290 non-null  object \n",
      " 22  RainTomorrow   131428 non-null  object \n",
      "dtypes: float64(16), object(7)\n",
      "memory usage: 24.6+ MB\n"
     ]
    }
   ],
   "source": [
    "\n",
    "# Kiểm tra và đếm số lượng giá trị null trong mỗi dòng\n",
    "rain_df_isnull = rain_df.isnull()\n",
    "rain_df_null_count = rain_df_isnull.sum(axis=1)\n",
    "\n",
    "# Lọc và giữ lại các dòng có nhiều hơn 1 giá trị null hoặc không có giá trị null nào\n",
    "rain_df_cleaned = rain_df[rain_df_null_count != 1]\n",
    "\n",
    "rain_df_cleaned.info()"
   ]
  },
  {
   "cell_type": "markdown",
   "metadata": {},
   "source": [
    "- Kết quả: Sau khi xóa đi các dòng chỉ có 1 giá trị null, tập dữ liệu còn 134551 dòng"
   ]
  },
  {
   "cell_type": "markdown",
   "metadata": {},
   "source": [
    "### LÀM SẠCH DỮ LIỆU"
   ]
  },
  {
   "cell_type": "code",
   "execution_count": 27,
   "metadata": {},
   "outputs": [],
   "source": [
    "rain_df_cleaned = rain_df_cleaned.drop(['Evaporation', 'WindGustDir', 'WindGustSpeed', 'Cloud9am', 'Cloud3pm'], axis=1)"
   ]
  },
  {
   "cell_type": "markdown",
   "metadata": {},
   "source": [
    "- Xóa đi các cột không cần thiết cho việc phân tích dữ liệu."
   ]
  },
  {
   "cell_type": "markdown",
   "metadata": {},
   "source": [
    "###  Xử lý dữ liệu thời gian"
   ]
  },
  {
   "cell_type": "code",
   "execution_count": 28,
   "metadata": {},
   "outputs": [],
   "source": [
    "# Chuyển đổi cột 'Date' thành kiểu datetime\n",
    "rain_df_cleaned['Date'] = pd.to_datetime(rain_df_cleaned['Date'], format='%Y-%m-%d')\n",
    "\n",
    "# Tạo cột 'Month' và 'Year' từ cột 'Date'\n",
    "rain_df_cleaned['Month'] = rain_df_cleaned['Date'].dt.month\n",
    "rain_df_cleaned['Year'] = rain_df_cleaned['Date'].dt.year\n",
    "\n"
   ]
  },
  {
   "cell_type": "markdown",
   "metadata": {},
   "source": [
    "- Chuyển cột Date về kiểu dữ liệu datetime.\n",
    "- Thêm cột Month, Year."
   ]
  },
  {
   "cell_type": "markdown",
   "metadata": {},
   "source": [
    "### Tạo thêm cột Region"
   ]
  },
  {
   "cell_type": "code",
   "execution_count": 29,
   "metadata": {},
   "outputs": [
    {
     "name": "stderr",
     "output_type": "stream",
     "text": [
      "C:\\Users\\panh2\\AppData\\Local\\Temp\\ipykernel_11824\\576308527.py:20: FutureWarning: Setting an item of incompatible dtype is deprecated and will raise an error in a future version of pandas. Value 'New South Wales' has dtype incompatible with float64, please explicitly cast to a compatible dtype first.\n",
      "  rain_df_cleaned.loc[rain_df_cleaned['Location'].isin(locations), 'State/Territory'] = state\n"
     ]
    }
   ],
   "source": [
    "# tạo cột \"State/Territory\" (Tiểu bang/ Lãnh thổ) dựa trên \"Location\"\n",
    "rain_df_cleaned['State/Territory'] = np.nan\n",
    "\n",
    "location_to_state = {\n",
    "    'New South Wales': ['Albury', 'BadgerysCreek', 'Cobar', 'CoffsHarbour', 'Moree',\n",
    "                        'Newcastle', 'NorahHead', 'Penrith', 'Richmond', 'Sydney', 'SydneyAirport',\n",
    "                        'WaggaWagga', 'Williamtown', 'Wollongong'],\n",
    "    'Norfolk Island': ['NorfolkIsland'],\n",
    "    'Australian Capital Territory': ['Canberra', 'Tuggeranong', 'MountGinini'],\n",
    "    'Victoria': ['Ballarat', 'Bendigo', 'Sale', 'Melbourne', 'Mildura', 'Nhil',\n",
    "                 'Portland', 'Dartmoor', 'MelbourneAirport', 'Watsonia'],\n",
    "    'Queensland': ['Cairns', 'GoldCoast', 'Townsville', 'Brisbane'],\n",
    "    'South Australia': ['Adelaide', 'MountGambier', 'Nuriootpa', 'Woomera'],\n",
    "    'Western Australia': ['Albany', 'Witchcliffe', 'PearceRAAF', 'SalmonGums', 'Walpole', 'Perth', 'PerthAirport'],\n",
    "    'Tasmania': ['Hobart', 'Launceston'],\n",
    "    'Northern Territory': ['AliceSprings', 'Katherine', 'Uluru', 'Darwin'],\n",
    "}\n",
    "\n",
    "for state, locations in location_to_state.items():\n",
    "    rain_df_cleaned.loc[rain_df_cleaned['Location'].isin(locations), 'State/Territory'] = state\n"
   ]
  },
  {
   "cell_type": "code",
   "execution_count": 30,
   "metadata": {},
   "outputs": [
    {
     "name": "stderr",
     "output_type": "stream",
     "text": [
      "C:\\Users\\panh2\\AppData\\Local\\Temp\\ipykernel_11824\\2319919442.py:16: FutureWarning: Setting an item of incompatible dtype is deprecated and will raise an error in a future version of pandas. Value 'North' has dtype incompatible with float64, please explicitly cast to a compatible dtype first.\n",
      "  rain_df_cleaned.loc[rain_df_cleaned['State/Territory'] == state, 'Region'] = region\n"
     ]
    }
   ],
   "source": [
    "# tạo cột \"Region\" (Khu vực) dựa trên cột \"State/Territory\"\n",
    "rain_df_cleaned['Region'] = np.nan\n",
    "region_mapping = {\n",
    "    'Northern Territory': 'North',\n",
    "    'Western Australia': 'West',\n",
    "    'South Australia': 'South',\n",
    "    'New South Wales': 'Southeast',\n",
    "    'Victoria': 'Southeast',\n",
    "    'Tasmania': 'Southeast',\n",
    "    'Australian Capital Territory': 'Southeast',\n",
    "    'Norfolk Island': 'East',\n",
    "    'Queensland': 'East'\n",
    "}\n",
    "\n",
    "for state, region in region_mapping.items():\n",
    "    rain_df_cleaned.loc[rain_df_cleaned['State/Territory'] == state, 'Region'] = region\n",
    "\n",
    "\n"
   ]
  },
  {
   "cell_type": "code",
   "execution_count": 31,
   "metadata": {},
   "outputs": [
    {
     "name": "stderr",
     "output_type": "stream",
     "text": [
      "C:\\Users\\panh2\\AppData\\Local\\Temp\\ipykernel_11824\\4113604409.py:18: FutureWarning: Setting an item of incompatible dtype is deprecated and will raise an error in a future version of pandas. Value 'Summer' has dtype incompatible with float64, please explicitly cast to a compatible dtype first.\n",
      "  rain_df_cleaned.at[index, 'Season'] = 'Summer'\n"
     ]
    },
    {
     "data": {
      "text/html": [
       "<div>\n",
       "<style scoped>\n",
       "    .dataframe tbody tr th:only-of-type {\n",
       "        vertical-align: middle;\n",
       "    }\n",
       "\n",
       "    .dataframe tbody tr th {\n",
       "        vertical-align: top;\n",
       "    }\n",
       "\n",
       "    .dataframe thead th {\n",
       "        text-align: right;\n",
       "    }\n",
       "</style>\n",
       "<table border=\"1\" class=\"dataframe\">\n",
       "  <thead>\n",
       "    <tr style=\"text-align: right;\">\n",
       "      <th></th>\n",
       "      <th>Date</th>\n",
       "      <th>Month</th>\n",
       "      <th>Year</th>\n",
       "      <th>Location</th>\n",
       "      <th>Region</th>\n",
       "      <th>Season</th>\n",
       "      <th>MinTemp</th>\n",
       "      <th>MaxTemp</th>\n",
       "      <th>Rainfall</th>\n",
       "      <th>Sunshine</th>\n",
       "      <th>...</th>\n",
       "      <th>WindSpeed9am</th>\n",
       "      <th>WindSpeed3pm</th>\n",
       "      <th>Humidity9am</th>\n",
       "      <th>Humidity3pm</th>\n",
       "      <th>Pressure9am</th>\n",
       "      <th>Pressure3pm</th>\n",
       "      <th>Temp9am</th>\n",
       "      <th>Temp3pm</th>\n",
       "      <th>RainToday</th>\n",
       "      <th>RainTomorrow</th>\n",
       "    </tr>\n",
       "  </thead>\n",
       "  <tbody>\n",
       "    <tr>\n",
       "      <th>0</th>\n",
       "      <td>2008-12-01</td>\n",
       "      <td>12</td>\n",
       "      <td>2008</td>\n",
       "      <td>Albury</td>\n",
       "      <td>Southeast</td>\n",
       "      <td>Summer</td>\n",
       "      <td>13.4</td>\n",
       "      <td>22.9</td>\n",
       "      <td>0.6</td>\n",
       "      <td>NaN</td>\n",
       "      <td>...</td>\n",
       "      <td>20.0</td>\n",
       "      <td>24.0</td>\n",
       "      <td>71.0</td>\n",
       "      <td>22.0</td>\n",
       "      <td>1007.7</td>\n",
       "      <td>1007.1</td>\n",
       "      <td>16.9</td>\n",
       "      <td>21.8</td>\n",
       "      <td>No</td>\n",
       "      <td>No</td>\n",
       "    </tr>\n",
       "    <tr>\n",
       "      <th>1</th>\n",
       "      <td>2008-12-02</td>\n",
       "      <td>12</td>\n",
       "      <td>2008</td>\n",
       "      <td>Albury</td>\n",
       "      <td>Southeast</td>\n",
       "      <td>Summer</td>\n",
       "      <td>7.4</td>\n",
       "      <td>25.1</td>\n",
       "      <td>0.0</td>\n",
       "      <td>NaN</td>\n",
       "      <td>...</td>\n",
       "      <td>4.0</td>\n",
       "      <td>22.0</td>\n",
       "      <td>44.0</td>\n",
       "      <td>25.0</td>\n",
       "      <td>1010.6</td>\n",
       "      <td>1007.8</td>\n",
       "      <td>17.2</td>\n",
       "      <td>24.3</td>\n",
       "      <td>No</td>\n",
       "      <td>No</td>\n",
       "    </tr>\n",
       "    <tr>\n",
       "      <th>2</th>\n",
       "      <td>2008-12-03</td>\n",
       "      <td>12</td>\n",
       "      <td>2008</td>\n",
       "      <td>Albury</td>\n",
       "      <td>Southeast</td>\n",
       "      <td>Summer</td>\n",
       "      <td>12.9</td>\n",
       "      <td>25.7</td>\n",
       "      <td>0.0</td>\n",
       "      <td>NaN</td>\n",
       "      <td>...</td>\n",
       "      <td>19.0</td>\n",
       "      <td>26.0</td>\n",
       "      <td>38.0</td>\n",
       "      <td>30.0</td>\n",
       "      <td>1007.6</td>\n",
       "      <td>1008.7</td>\n",
       "      <td>21.0</td>\n",
       "      <td>23.2</td>\n",
       "      <td>No</td>\n",
       "      <td>No</td>\n",
       "    </tr>\n",
       "  </tbody>\n",
       "</table>\n",
       "<p>3 rows × 22 columns</p>\n",
       "</div>"
      ],
      "text/plain": [
       "        Date  Month  Year Location     Region  Season  MinTemp  MaxTemp  \\\n",
       "0 2008-12-01     12  2008   Albury  Southeast  Summer     13.4     22.9   \n",
       "1 2008-12-02     12  2008   Albury  Southeast  Summer      7.4     25.1   \n",
       "2 2008-12-03     12  2008   Albury  Southeast  Summer     12.9     25.7   \n",
       "\n",
       "   Rainfall  Sunshine  ... WindSpeed9am WindSpeed3pm  Humidity9am  \\\n",
       "0       0.6       NaN  ...         20.0         24.0         71.0   \n",
       "1       0.0       NaN  ...          4.0         22.0         44.0   \n",
       "2       0.0       NaN  ...         19.0         26.0         38.0   \n",
       "\n",
       "   Humidity3pm  Pressure9am  Pressure3pm  Temp9am  Temp3pm  RainToday  \\\n",
       "0         22.0       1007.7       1007.1     16.9     21.8         No   \n",
       "1         25.0       1010.6       1007.8     17.2     24.3         No   \n",
       "2         30.0       1007.6       1008.7     21.0     23.2         No   \n",
       "\n",
       "   RainTomorrow  \n",
       "0            No  \n",
       "1            No  \n",
       "2            No  \n",
       "\n",
       "[3 rows x 22 columns]"
      ]
     },
     "execution_count": 31,
     "metadata": {},
     "output_type": "execute_result"
    }
   ],
   "source": [
    "# Tạo cột \"Season\" (Mùa) dựa trên cột \"Region\" và \"Month\"\n",
    "rain_df_cleaned['Season'] = np.nan\n",
    "\n",
    "for index, row in rain_df_cleaned.iterrows():\n",
    "    if (row['Region'] in ['North', 'Northeast']):\n",
    "        if (5 <= row['Month'] <= 10):\n",
    "            rain_df_cleaned.at[index, 'Season'] = 'Dry'\n",
    "        else:\n",
    "            rain_df_cleaned.at[index, 'Season'] = 'Wet'\n",
    "    elif (row['Region'] in ['East', 'South', 'Southeast', 'West']):\n",
    "        if (3 <= row['Month'] <= 5):\n",
    "            rain_df_cleaned.at[index, 'Season'] = 'Autumn'\n",
    "        elif (6 <= row['Month'] <= 8):\n",
    "            rain_df_cleaned.at[index, 'Season'] = 'Winter'\n",
    "        elif (9 <= row['Month'] <= 11):\n",
    "            rain_df_cleaned.at[index, 'Season'] = 'Spring'\n",
    "        else:\n",
    "            rain_df_cleaned.at[index, 'Season'] = 'Summer'\n",
    "\n",
    "# Sắp xếp lại các cột (nếu muốn)\n",
    "rain_df_cleaned = rain_df_cleaned[['Date', 'Month', 'Year', 'Location', 'Region', 'Season', 'MinTemp', 'MaxTemp', 'Rainfall', 'Sunshine', 'WindDir9am', 'WindDir3pm', 'WindSpeed9am',\n",
    "                                   'WindSpeed3pm', 'Humidity9am', 'Humidity3pm', 'Pressure9am', 'Pressure3pm', 'Temp9am', 'Temp3pm', 'RainToday', 'RainTomorrow']]\n",
    "\n",
    "rain_df_cleaned.head(3)"
   ]
  },
  {
   "cell_type": "markdown",
   "metadata": {},
   "source": [
    "### XỬ LÝ DỮ LIỆU BỊ THIẾU"
   ]
  },
  {
   "cell_type": "markdown",
   "metadata": {},
   "source": [
    "- Xác định những dữ liệu có nhiều hơn 30% dữ liệu bị thiếu."
   ]
  },
  {
   "cell_type": "code",
   "execution_count": 32,
   "metadata": {},
   "outputs": [
    {
     "name": "stdout",
     "output_type": "stream",
     "text": [
      "Số lượng cột thuộc tính có hơn 30% dữ liệu bị thiếu: 1\n",
      "Các cột thuộc tính có hơn 30% dữ liệu bị thiếu:\n",
      "['Sunshine']\n"
     ]
    }
   ],
   "source": [
    "# Hàm kiểm tra tỷ lệ giá trị thiếu\n",
    "def has_missing_data(col):\n",
    "    return col.isnull().mean() > 0.3\n",
    "\n",
    "# Áp dụng hàm lên từng cột và lấy ra các cột thỏa mãn điều kiện\n",
    "missing_cols = rain_df_cleaned.columns[rain_df_cleaned.apply(has_missing_data)]\n",
    "\n",
    "# In kết quả\n",
    "print(f\"Số lượng cột thuộc tính có hơn 30% dữ liệu bị thiếu: {len(missing_cols)}\")\n",
    "print(\"Các cột thuộc tính có hơn 30% dữ liệu bị thiếu:\")\n",
    "print(missing_cols.tolist())"
   ]
  },
  {
   "cell_type": "markdown",
   "metadata": {},
   "source": [
    "- Xử lý dữ liệu thiếu với biến mục tiêu."
   ]
  },
  {
   "cell_type": "code",
   "execution_count": 33,
   "metadata": {},
   "outputs": [],
   "source": [
    "# Tách các hàng có giá trị null ở cột \"RainTomorrow\" ra null_df\n",
    "null_df = rain_df_cleaned.query('RainTomorrow.isnull()').copy()\n",
    "\n",
    "# Xóa các hàng có giá trị null ở cột \"RainTomorrow\" khỏi df\n",
    "rain_df_cleaned.drop(rain_df_cleaned[rain_df_cleaned['RainTomorrow'].isnull()].index, inplace=True)"
   ]
  },
  {
   "cell_type": "markdown",
   "metadata": {},
   "source": [
    "- Đối với biến số, điền giá trị trung bình cho các điểm dữ liệu bị trống."
   ]
  },
  {
   "cell_type": "code",
   "execution_count": 34,
   "metadata": {},
   "outputs": [],
   "source": [
    "num_col = ['MinTemp', 'MaxTemp', 'Rainfall', 'Sunshine', 'WindSpeed9am',\n",
    "           'WindSpeed3pm', 'Humidity9am', 'Humidity3pm', 'Pressure9am', 'Pressure3pm', \n",
    "            'Temp9am', 'Temp3pm']"
   ]
  },
  {
   "cell_type": "code",
   "execution_count": 35,
   "metadata": {},
   "outputs": [],
   "source": [
    "for col in num_col:\n",
    "    rain_df_cleaned[col] = rain_df_cleaned[col].fillna(rain_df_cleaned[col].mean())"
   ]
  },
  {
   "cell_type": "markdown",
   "metadata": {},
   "source": [
    "- Đối với biến định lượng, sử dụng yếu vị để điền vào dữ liệu bị trống cho các cột."
   ]
  },
  {
   "cell_type": "code",
   "execution_count": 36,
   "metadata": {},
   "outputs": [],
   "source": [
    "rain_df_cleaned['RainToday'] = rain_df_cleaned['RainToday'].astype('object')\n",
    "cate_col = rain_df_cleaned.select_dtypes(include=['object'])\n",
    "for col in cate_col:\n",
    "    rain_df_cleaned[col] = rain_df_cleaned[col].fillna(rain_df_cleaned[col].mode()[0])"
   ]
  },
  {
   "cell_type": "markdown",
   "metadata": {},
   "source": [
    "### XỬ LÝ GIÁ TRỊ NGOẠI LAI"
   ]
  },
  {
   "cell_type": "code",
   "execution_count": 37,
   "metadata": {},
   "outputs": [
    {
     "name": "stdout",
     "output_type": "stream",
     "text": [
      "12 biến: ['MinTemp', 'MaxTemp', 'Rainfall', 'Sunshine', 'WindSpeed9am', 'WindSpeed3pm', 'Humidity9am', 'Humidity3pm', 'Pressure9am', 'Pressure3pm', 'Temp9am', 'Temp3pm']\n"
     ]
    }
   ],
   "source": [
    "print(f'{len(num_col)} biến: {num_col}')"
   ]
  },
  {
   "cell_type": "markdown",
   "metadata": {},
   "source": [
    "- Loại bỏ các giá trị ngoại lai."
   ]
  },
  {
   "cell_type": "code",
   "execution_count": 39,
   "metadata": {},
   "outputs": [
    {
     "data": {
      "image/png": "[encoded data removed]",
      "text/plain": [
       "<Figure size 1500x500 with 1 Axes>"
      ]
     },
     "metadata": {},
     "output_type": "display_data"
    },
    {
     "name": "stdout",
     "output_type": "stream",
     "text": [
      "Cột MinTemp: đã loại bỏ 24 outliers\n",
      "Cột MaxTemp: đã loại bỏ 313 outliers\n",
      "Cột Rainfall: đã loại bỏ 2467 outliers\n",
      "Cột Sunshine: đã loại bỏ 0 outliers\n",
      "Cột WindSpeed9am: đã loại bỏ 1152 outliers\n",
      "Cột WindSpeed3pm: đã loại bỏ 620 outliers\n",
      "Cột Humidity9am: đã loại bỏ 505 outliers\n",
      "Cột Humidity3pm: đã loại bỏ 0 outliers\n",
      "Cột Pressure9am: đã loại bỏ 662 outliers\n",
      "Cột Pressure3pm: đã loại bỏ 297 outliers\n",
      "Cột Temp9am: đã loại bỏ 49 outliers\n",
      "Cột Temp3pm: đã loại bỏ 203 outliers\n",
      "\n",
      "Tổng số outliers đã loại bỏ: 6292\n",
      "Tỷ lệ dữ liệu giữ lại: 95.21%\n"
     ]
    },
    {
     "data": {
      "image/png": "[encoded data removed]",
      "text/plain": [
       "<Figure size 1500x500 with 1 Axes>"
      ]
     },
     "metadata": {},
     "output_type": "display_data"
    }
   ],
   "source": [
    "# Gán rain_df_cleaned cho df\n",
    "df = rain_df_cleaned.copy()\n",
    "\n",
    "# Import thư viện cần thiết\n",
    "from scipy import stats\n",
    "import numpy as np\n",
    "\n",
    "def remove_outliers_zscore(df, columns, threshold=3):\n",
    "    \"\"\"\n",
    "    Loại bỏ outliers sử dụng phương pháp zscore\n",
    "    df: DataFrame\n",
    "    threshold: ngưỡng Z-score (mặc định là 3)\n",
    "    \"\"\"\n",
    "    df_clean = df.copy()\n",
    "    outliers_removed = 0\n",
    "\n",
    "    for column in columns:\n",
    "        # Tính Z-score\n",
    "        z_scores = np.abs(stats.zscore(df_clean[column]))\n",
    "\n",
    "        # Đếm số outliers\n",
    "        outliers = df_clean[z_scores > threshold].shape[0]\n",
    "        outliers_removed += outliers\n",
    "\n",
    "        # Lọc dữ liệu\n",
    "        df_clean = df_clean[z_scores <= threshold]\n",
    "\n",
    "        print(f'Cột {column}: đã loại bỏ {outliers} outliers')\n",
    "    \n",
    "    print(f'\\nTổng số outliers đã loại bỏ: {outliers_removed}')\n",
    "    print(f'Tỷ lệ dữ liệu giữ lại: {(len(df_clean)/len(df)*100):.2f}%')\n",
    "\n",
    "    return df_clean\n",
    "\n",
    "# Vẽ boxplot trước khi xử lý\n",
    "plt.figure(figsize=(15, 5))\n",
    "df[num_col].boxplot()\n",
    "plt.xticks(rotation=45)\n",
    "plt.title('Boxplot trước khi xử lý outliers')\n",
    "plt.show()\n",
    "\n",
    "# Áp dụng phương pháp Z-score\n",
    "df_no_outliers = remove_outliers_zscore(df, num_col)\n",
    "\n",
    "# Vẽ boxplot sau khi xử lý\n",
    "plt.figure(figsize=(15, 5))\n",
    "df_no_outliers[num_col].boxplot()\n",
    "plt.xticks(rotation=45)\n",
    "plt.title('Boxplot sau khi xử lý outliers')\n",
    "plt.show()"
   ]
  },
  {
   "cell_type": "markdown",
   "metadata": {},
   "source": [
    "### XÓA CÁC DÒNG SAI RÀNG BUỘC"
   ]
  },
  {
   "cell_type": "code",
   "execution_count": null,
   "metadata": {},
   "outputs": [
    {
     "data": {
      "text/html": [
       "<div>\n",
       "<style scoped>\n",
       "    .dataframe tbody tr th:only-of-type {\n",
       "        vertical-align: middle;\n",
       "    }\n",
       "\n",
       "    .dataframe tbody tr th {\n",
       "        vertical-align: top;\n",
       "    }\n",
       "\n",
       "    .dataframe thead th {\n",
       "        text-align: right;\n",
       "    }\n",
       "</style>\n",
       "<table border=\"1\" class=\"dataframe\">\n",
       "  <thead>\n",
       "    <tr style=\"text-align: right;\">\n",
       "      <th></th>\n",
       "      <th>Location</th>\n",
       "      <th>MinTemp</th>\n",
       "      <th>MaxTemp</th>\n",
       "      <th>Temp9am</th>\n",
       "      <th>Temp3pm</th>\n",
       "      <th>RainToday</th>\n",
       "    </tr>\n",
       "  </thead>\n",
       "  <tbody>\n",
       "    <tr>\n",
       "      <th>284</th>\n",
       "      <td>Albury</td>\n",
       "      <td>12.178141</td>\n",
       "      <td>18.8</td>\n",
       "      <td>8.700000</td>\n",
       "      <td>18.100000</td>\n",
       "      <td>No</td>\n",
       "    </tr>\n",
       "    <tr>\n",
       "      <th>612</th>\n",
       "      <td>Albury</td>\n",
       "      <td>12.178141</td>\n",
       "      <td>11.8</td>\n",
       "      <td>6.700000</td>\n",
       "      <td>11.300000</td>\n",
       "      <td>No</td>\n",
       "    </tr>\n",
       "    <tr>\n",
       "      <th>1566</th>\n",
       "      <td>Albury</td>\n",
       "      <td>10.000000</td>\n",
       "      <td>13.4</td>\n",
       "      <td>16.952767</td>\n",
       "      <td>12.300000</td>\n",
       "      <td>Yes</td>\n",
       "    </tr>\n",
       "    <tr>\n",
       "      <th>1686</th>\n",
       "      <td>Albury</td>\n",
       "      <td>12.178141</td>\n",
       "      <td>18.5</td>\n",
       "      <td>11.400000</td>\n",
       "      <td>17.800000</td>\n",
       "      <td>No</td>\n",
       "    </tr>\n",
       "    <tr>\n",
       "      <th>1932</th>\n",
       "      <td>Albury</td>\n",
       "      <td>8.200000</td>\n",
       "      <td>15.2</td>\n",
       "      <td>16.952767</td>\n",
       "      <td>14.800000</td>\n",
       "      <td>Yes</td>\n",
       "    </tr>\n",
       "    <tr>\n",
       "      <th>...</th>\n",
       "      <td>...</td>\n",
       "      <td>...</td>\n",
       "      <td>...</td>\n",
       "      <td>...</td>\n",
       "      <td>...</td>\n",
       "      <td>...</td>\n",
       "    </tr>\n",
       "    <tr>\n",
       "      <th>143847</th>\n",
       "      <td>Katherine</td>\n",
       "      <td>21.800000</td>\n",
       "      <td>34.6</td>\n",
       "      <td>28.200000</td>\n",
       "      <td>21.587538</td>\n",
       "      <td>No</td>\n",
       "    </tr>\n",
       "    <tr>\n",
       "      <th>144178</th>\n",
       "      <td>Uluru</td>\n",
       "      <td>21.400000</td>\n",
       "      <td>24.8</td>\n",
       "      <td>23.800000</td>\n",
       "      <td>17.700000</td>\n",
       "      <td>No</td>\n",
       "    </tr>\n",
       "    <tr>\n",
       "      <th>144203</th>\n",
       "      <td>Uluru</td>\n",
       "      <td>24.000000</td>\n",
       "      <td>30.4</td>\n",
       "      <td>25.400000</td>\n",
       "      <td>21.587538</td>\n",
       "      <td>No</td>\n",
       "    </tr>\n",
       "    <tr>\n",
       "      <th>145159</th>\n",
       "      <td>Uluru</td>\n",
       "      <td>14.200000</td>\n",
       "      <td>14.4</td>\n",
       "      <td>14.200000</td>\n",
       "      <td>14.000000</td>\n",
       "      <td>Yes</td>\n",
       "    </tr>\n",
       "    <tr>\n",
       "      <th>145390</th>\n",
       "      <td>Uluru</td>\n",
       "      <td>19.300000</td>\n",
       "      <td>24.4</td>\n",
       "      <td>21.300000</td>\n",
       "      <td>18.500000</td>\n",
       "      <td>No</td>\n",
       "    </tr>\n",
       "  </tbody>\n",
       "</table>\n",
       "<p>2996 rows × 6 columns</p>\n",
       "</div>"
      ],
      "text/plain": [
       "         Location    MinTemp  MaxTemp    Temp9am    Temp3pm RainToday\n",
       "284        Albury  12.178141     18.8   8.700000  18.100000        No\n",
       "612        Albury  12.178141     11.8   6.700000  11.300000        No\n",
       "1566       Albury  10.000000     13.4  16.952767  12.300000       Yes\n",
       "1686       Albury  12.178141     18.5  11.400000  17.800000        No\n",
       "1932       Albury   8.200000     15.2  16.952767  14.800000       Yes\n",
       "...           ...        ...      ...        ...        ...       ...\n",
       "143847  Katherine  21.800000     34.6  28.200000  21.587538        No\n",
       "144178      Uluru  21.400000     24.8  23.800000  17.700000        No\n",
       "144203      Uluru  24.000000     30.4  25.400000  21.587538        No\n",
       "145159      Uluru  14.200000     14.4  14.200000  14.000000       Yes\n",
       "145390      Uluru  19.300000     24.4  21.300000  18.500000        No\n",
       "\n",
       "[2996 rows x 6 columns]"
      ]
     },
     "execution_count": 39,
     "metadata": {},
     "output_type": "execute_result"
    }
   ],
   "source": [
    "# lọc dòng có giá trị vượt ngưỡng ràng buộc\n",
    "temp9am = rain_df_cleaned[(rain_df_cleaned['Temp9am'] < rain_df_cleaned['MinTemp']) | (rain_df_cleaned['Temp9am'] > rain_df_cleaned['MaxTemp'])]\n",
    "temp3pm = rain_df_cleaned[(rain_df_cleaned['Temp3pm'] < rain_df_cleaned['MinTemp']) | (rain_df_cleaned['Temp3pm'] > rain_df_cleaned['MaxTemp'])]\n",
    "incorrect_values = pd.concat([temp9am, temp3pm]).drop_duplicates()\n",
    "col = ['Location', 'MinTemp', 'MaxTemp', 'Temp9am', 'Temp3pm', 'RainToday']\n",
    "incorrect_values[col]"
   ]
  },
  {
   "cell_type": "code",
   "execution_count": null,
   "metadata": {},
   "outputs": [
    {
     "name": "stdout",
     "output_type": "stream",
     "text": [
      "Phần trăm số dòng đã xóa: 2.33%\n"
     ]
    }
   ],
   "source": [
    "# xóa các dòng lọc khỏi df\n",
    "df = rain_df_cleaned.drop(incorrect_values.index)\n",
    "print(f'Phần trăm số dòng đã xóa: {((incorrect_values.shape[0]) * 100 / df.shape[0]):.2f}%')"
   ]
  },
  {
   "cell_type": "code",
   "execution_count": null,
   "metadata": {},
   "outputs": [],
   "source": [
    "df.to_csv(\"E:/DA/DO_AN_CUOI_KY/DATASET\"+'/weatherUS_final.csv', index=False)"
   ]
  }
 ],
 "metadata": {
  "kernelspec": {
   "display_name": "Python 3",
   "language": "python",
   "name": "python3"
  },
  "language_info": {
   "codemirror_mode": {
    "name": "ipython",
    "version": 3
   },
   "file_extension": ".py",
   "mimetype": "text/x-python",
   "name": "python",
   "nbconvert_exporter": "python",
   "pygments_lexer": "ipython3",
   "version": "3.10.0"
  }
 },
 "nbformat": 4,
 "nbformat_minor": 2
}
